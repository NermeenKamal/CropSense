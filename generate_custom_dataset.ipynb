{
 "cells": [
  {
   "cell_type": "code",
   "execution_count": 16,
   "metadata": {},
   "outputs": [],
   "source": [
    "import json"
   ]
  },
  {
   "cell_type": "code",
   "execution_count": 11,
   "metadata": {
    "scrolled": true
   },
   "outputs": [],
   "source": [
    "# Load the JSON file\n",
    "with open('farm_qa.json', 'r') as file:\n",
    "    qa_data = json.load(file)"
   ]
  },
  {
   "cell_type": "code",
   "execution_count": 12,
   "metadata": {},
   "outputs": [],
   "source": [
    "# Create a list to store the formatted pairs as single-line JSON\n",
    "formatted_dataset = []"
   ]
  },
  {
   "cell_type": "code",
   "execution_count": 13,
   "metadata": {},
   "outputs": [],
   "source": [
    "\n",
    "# Process each question-answer pair in the JSON data\n",
    "for qa_pair in qa_data:\n",
    "    question = qa_pair['Question']\n",
    "    answers = qa_pair['Answers']\n",
    "\n",
    "    for answer in answers:\n",
    "        formatted_pair = {\n",
    "            \"### Human\": question,\n",
    "            \"### Assistant\": answer\n",
    "        }\n",
    "        formatted_json = json.dumps(formatted_pair, separators=(',', ':'))  # Use separators to create single-line JSON\n",
    "        formatted_dataset.append(formatted_json)"
   ]
  },
  {
   "cell_type": "code",
   "execution_count": 14,
   "metadata": {},
   "outputs": [],
   "source": [
    "\n",
    "# Save the formatted pairs to a JSON file with one pair per line\n",
    "with open('formatted_dataset.json', 'w') as output_file:\n",
    "    output_file.write('\\n'.join(formatted_dataset))"
   ]
  },
  {
   "cell_type": "code",
   "execution_count": null,
   "metadata": {},
   "outputs": [],
   "source": []
  }
 ],
 "metadata": {
  "kernelspec": {
   "display_name": "Python 3",
   "language": "python",
   "name": "python3"
  },
  "language_info": {
   "codemirror_mode": {
    "name": "ipython",
    "version": 3
   },
   "file_extension": ".py",
   "mimetype": "text/x-python",
   "name": "python",
   "nbconvert_exporter": "python",
   "pygments_lexer": "ipython3",
   "version": "3.8.5"
  }
 },
 "nbformat": 4,
 "nbformat_minor": 4
}
