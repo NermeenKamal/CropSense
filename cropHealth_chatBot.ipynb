{
 "cells": [
  {
   "attachments": {},
   "cell_type": "markdown",
   "metadata": {},
   "source": [
    "## Import libraries"
   ]
  },
  {
   "cell_type": "code",
   "execution_count": 1,
   "metadata": {},
   "outputs": [],
   "source": [
    "import numpy as np\n",
    "import json\n",
    "import nltk\n",
    "from nltk.tokenize import word_tokenize\n",
    "from nltk.stem import PorterStemmer\n",
    "from nltk.corpus import stopwords\n",
    "import torch\n",
    "import torch.nn as nn\n",
    "from torch.utils.data  import DataLoader , Dataset\n",
    "import random\n",
    "\n",
    "\n",
    "#nltk.download('punkt')\n",
    "#nltk.download('stopwords')"
   ]
  },
  {
   "attachments": {},
   "cell_type": "markdown",
   "metadata": {},
   "source": [
    "## Read and Clean the data "
   ]
  },
  {
   "cell_type": "code",
   "execution_count": 2,
   "metadata": {},
   "outputs": [],
   "source": [
    "with open('farm.json' , 'r') as f:\n",
    "    data = json.load(f)"
   ]
  },
  {
   "attachments": {},
   "cell_type": "markdown",
   "metadata": {},
   "source": [
    "#### Create function that clean the data from the noise "
   ]
  },
  {
   "cell_type": "code",
   "execution_count": 3,
   "metadata": {},
   "outputs": [],
   "source": [
    "def tokenize_and_stem_sentence_and_remove_stopWords(sentence):\n",
    "\n",
    "    # Tokenization\n",
    "    words = word_tokenize(sentence)\n",
    "    \n",
    "    # Stemming and remove stop words\n",
    "    additional_stopwords =['?' , '!' , '.' , ',']    \n",
    "    stop_words = set(stopwords.words(\"english\")) .union(additional_stopwords) \n",
    "    \n",
    "    stemmer = PorterStemmer()\n",
    "    stemmed_words = [stemmer.stem(word) for word in words if word not in stop_words]\n",
    "    \n",
    "    return stemmed_words\n"
   ]
  },
  {
   "cell_type": "code",
   "execution_count": 4,
   "metadata": {},
   "outputs": [],
   "source": [
    "vocabulary = []\n",
    "xy = []\n",
    "\n",
    "for i, QA in enumerate(data):\n",
    "    question = QA['Question']\n",
    "    # STEM AND TOKKENIZE THE QUESTION \n",
    "    question = tokenize_and_stem_sentence_and_remove_stopWords(question)\n",
    "    vocabulary.extend(question)\n",
    "    xy.append((question , i)) \n",
    "    \n",
    "vocabulary = sorted(set(vocabulary))\n",
    "\n",
    "n_classes = len(xy)\n",
    "\n"
   ]
  },
  {
   "cell_type": "code",
   "execution_count": 5,
   "metadata": {},
   "outputs": [],
   "source": [
    "def bag_of_words(dictionary , sentence):   \n",
    "    # Before invoking this function, ensure that the sentence has been processed with tokenize_and_stem_sentence_and_remove_stopwords()\n",
    "    bag = np.zeros(len(dictionary) , dtype=np.float32)    \n",
    "    for word in sentence:\n",
    "        \n",
    "        if word in dictionary:\n",
    "            index_word = dictionary.index(word)\n",
    "            bag[index_word] += 1.0\n",
    "    \n",
    "    return bag \n",
    "    "
   ]
  },
  {
   "cell_type": "code",
   "execution_count": 6,
   "metadata": {},
   "outputs": [],
   "source": [
    "X_train = []\n",
    "y_train = []\n",
    "\n",
    "for (Q , label) in xy :\n",
    "    bag = bag_of_words(vocabulary,Q)\n",
    "    X_train.append(bag)\n",
    "    y_train.append(label)\n",
    "    \n",
    "X_train = np.array(X_train)\n",
    "y_train = np.array(y_train)"
   ]
  },
  {
   "cell_type": "code",
   "execution_count": 7,
   "metadata": {},
   "outputs": [],
   "source": [
    "class ChatDataset(Dataset):\n",
    "    def __init__(self):\n",
    "        self.n_samples = len(X_train)\n",
    "        self.X_data = X_train\n",
    "        self.y_data = y_train\n",
    "\n",
    "    def __getitem__(self, index):\n",
    "        return self.X_data[index], self.y_data[index]\n",
    "\n",
    "    def __len__(self):\n",
    "        return self.n_samples"
   ]
  },
  {
   "cell_type": "code",
   "execution_count": 8,
   "metadata": {},
   "outputs": [],
   "source": [
    "dataset = ChatDataset()\n",
    "train_loader = DataLoader(dataset=dataset, batch_size=8 , shuffle=True , num_workers=0)"
   ]
  },
  {
   "attachments": {},
   "cell_type": "markdown",
   "metadata": {},
   "source": [
    "# Build the model"
   ]
  },
  {
   "cell_type": "code",
   "execution_count": 9,
   "metadata": {},
   "outputs": [],
   "source": [
    "# hyper_parameters\n",
    "batch_size = 8\n",
    "input_size = len(X_train[0])\n",
    "hidden_size = 8\n",
    "learning_rate = 0.001\n",
    "num_epochs = 2000"
   ]
  },
  {
   "cell_type": "code",
   "execution_count": 10,
   "metadata": {},
   "outputs": [],
   "source": [
    "class NeuralNet(nn.Module):\n",
    "    def __init__(self, input_size , hidden_size , num_classes):\n",
    "        super(NeuralNet , self).__init__()\n",
    "        self.l1 = nn.Linear(input_size , hidden_size)\n",
    "        self.l2 = nn.Linear(hidden_size , hidden_size)\n",
    "        self.l3 = nn.Linear(hidden_size , num_classes)\n",
    "        self.relu = nn.ReLU()\n",
    "        \n",
    "    def forward(self, x):\n",
    "        out = self.relu(self.l1(x))\n",
    "        out = self.relu(self.l2(out))\n",
    "        out = self.l3(out)\n",
    "        return out"
   ]
  },
  {
   "cell_type": "code",
   "execution_count": 11,
   "metadata": {},
   "outputs": [
    {
     "name": "stdout",
     "output_type": "stream",
     "text": [
      "epoch100/2000 , loss=1.8304\n",
      "epoch200/2000 , loss=0.5257\n",
      "epoch300/2000 , loss=0.1000\n",
      "epoch400/2000 , loss=0.0413\n",
      "epoch500/2000 , loss=0.0156\n",
      "epoch600/2000 , loss=0.0064\n",
      "epoch700/2000 , loss=0.0040\n",
      "epoch800/2000 , loss=0.0024\n",
      "epoch900/2000 , loss=0.0022\n",
      "epoch1000/2000 , loss=0.0017\n",
      "epoch1100/2000 , loss=0.0011\n",
      "epoch1200/2000 , loss=0.0005\n",
      "epoch1300/2000 , loss=0.0005\n",
      "epoch1400/2000 , loss=0.0004\n",
      "epoch1500/2000 , loss=0.0003\n",
      "epoch1600/2000 , loss=0.0002\n",
      "epoch1700/2000 , loss=0.0001\n",
      "epoch1800/2000 , loss=0.0001\n",
      "epoch1900/2000 , loss=0.0001\n",
      "epoch2000/2000 , loss=0.0000\n",
      "final loss , loss=0.0000\n"
     ]
    }
   ],
   "source": [
    "model = NeuralNet(input_size, hidden_size, n_classes)\n",
    "\n",
    "# loss and optimizer\n",
    "citerion = nn.CrossEntropyLoss()\n",
    "optimizer = torch.optim.Adam(model.parameters(), lr=learning_rate)\n",
    "\n",
    "for epoch in range(num_epochs):\n",
    "    for (words, labels) in train_loader:\n",
    "        labels = labels.to(dtype=torch.long)\n",
    "\n",
    "        outputs = model(words)\n",
    "        loss = citerion(outputs , labels)\n",
    "\n",
    "        # backward and optimizer\n",
    "        optimizer.zero_grad()\n",
    "        loss.backward()\n",
    "        optimizer.step()\n",
    "\n",
    "    if ( epoch + 1) % 100 == 0:\n",
    "        print(f'epoch{epoch + 1}/{num_epochs} , loss={loss.item():.4f}')\n",
    "\n",
    "print(f'final loss , loss={loss.item():.4f}')\n"
   ]
  },
  {
   "cell_type": "code",
   "execution_count": 12,
   "metadata": {},
   "outputs": [
    {
     "name": "stdout",
     "output_type": "stream",
     "text": [
      "Crop Health Chat Bot : Hello how can I help you ?\n"
     ]
    }
   ],
   "source": [
    "bot_name = 'Crop Health Chat Bot  '\n",
    "print(\"Crop Health Chat Bot : Hello how can I help you ?\")\n",
    "while True:\n",
    "    sentence = input(\"You: \")\n",
    "    if sentence == \"quit\":\n",
    "         break\n",
    "\n",
    "    sentence = tokenize_and_stem_sentence_and_remove_stopWords(sentence)\n",
    "    X = bag_of_words(vocabulary, sentence )\n",
    "    X = X.reshape(1, X.shape[0])\n",
    "    X = torch.from_numpy(X)\n",
    "\n",
    "    output = model(X)\n",
    "    _, predicted = torch.max(output, dim=1)\n",
    "\n",
    "    probs = torch.softmax(output, dim=1)\n",
    "    prob = probs[0][predicted.item()]\n",
    "   # print(prob)\n",
    "\n",
    "    if prob.item() > 0.5:\n",
    "        print(f\"You : {sentence} \" )\n",
    "        print(f\"{bot_name}:{random.choice(data[predicted.item()]['Answers'])}\")\n",
    "        \n",
    "    \n",
    "    else:\n",
    "        print(f\"{bot_name}: I do not understand...\")\n",
    "\n"
   ]
  }
 ],
 "metadata": {
  "kernelspec": {
   "display_name": "Python 3",
   "language": "python",
   "name": "python3"
  },
  "language_info": {
   "codemirror_mode": {
    "name": "ipython",
    "version": 3
   },
   "file_extension": ".py",
   "mimetype": "text/x-python",
   "name": "python",
   "nbconvert_exporter": "python",
   "pygments_lexer": "ipython3",
   "version": "3.10.4"
  },
  "orig_nbformat": 4
 },
 "nbformat": 4,
 "nbformat_minor": 2
}
