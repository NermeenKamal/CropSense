{
 "cells": [
  {
   "cell_type": "code",
   "execution_count": 1,
   "metadata": {},
   "outputs": [
    {
     "name": "stdout",
     "output_type": "stream",
     "text": [
      "Requirement already satisfied: Flask in d:\\condains\\lib\\site-packages (1.1.2)\n",
      "Requirement already satisfied: Jinja2>=2.10.1 in d:\\condains\\lib\\site-packages (from Flask) (2.11.2)\n",
      "Requirement already satisfied: Werkzeug>=0.15 in d:\\condains\\lib\\site-packages (from Flask) (1.0.1)\n",
      "Requirement already satisfied: click>=5.1 in d:\\condains\\lib\\site-packages (from Flask) (8.1.3)\n",
      "Requirement already satisfied: itsdangerous>=0.24 in d:\\condains\\lib\\site-packages (from Flask) (1.1.0)\n",
      "Requirement already satisfied: MarkupSafe>=0.23 in d:\\condains\\lib\\site-packages (from Jinja2>=2.10.1->Flask) (1.1.1)\n",
      "Requirement already satisfied: colorama; platform_system == \"Windows\" in d:\\condains\\lib\\site-packages (from click>=5.1->Flask) (0.4.4)\n",
      "Note: you may need to restart the kernel to use updated packages.\n"
     ]
    }
   ],
   "source": [
    "pip install Flask"
   ]
  },
  {
   "cell_type": "code",
   "execution_count": 5,
   "metadata": {},
   "outputs": [],
   "source": [
    "from flask import Flask, request, jsonify\n",
    "app = Flask(__name__)"
   ]
  },
  {
   "cell_type": "code",
   "execution_count": 6,
   "metadata": {},
   "outputs": [],
   "source": [
    "import joblib\n",
    "# Load the trained model\n",
    "clf = joblib.load(\"trained_model.pkl\")"
   ]
  },
  {
   "cell_type": "code",
   "execution_count": null,
   "metadata": {},
   "outputs": [
    {
     "name": "stdout",
     "output_type": "stream",
     "text": [
      " * Serving Flask app \"__main__\" (lazy loading)\n",
      " * Environment: production\n",
      "\u001b[31m   WARNING: This is a development server. Do not use it in a production deployment.\u001b[0m\n",
      "\u001b[2m   Use a production WSGI server instead.\u001b[0m\n",
      " * Debug mode: off\n"
     ]
    },
    {
     "name": "stderr",
     "output_type": "stream",
     "text": [
      " * Running on http://0.0.0.0:5000/ (Press CTRL+C to quit)\n"
     ]
    }
   ],
   "source": [
    "@app.route('/predict', methods=['POST'])\n",
    "def predict_crop_type():\n",
    "    # Get data from the request\n",
    "    data = request.get_json()\n",
    "\n",
    "    # Extract feature values from the data\n",
    "    N = data['N']\n",
    "    P = data['P']\n",
    "    K = data['K']\n",
    "    temperature = data['temperature']\n",
    "    humidity = data['humidity']\n",
    "    ph = data['ph']\n",
    "    rainfall = data['rainfall']\n",
    "\n",
    "    # Create a DataFrame with the input data\n",
    "    user_data = pd.DataFrame({\n",
    "        'N': [N],\n",
    "        'P': [P],\n",
    "        'K': [K],\n",
    "        'temperature': [temperature],\n",
    "        'humidity': [humidity],\n",
    "        'ph': [ph],\n",
    "        'rainfall': [rainfall]\n",
    "    })\n",
    "\n",
    "    # Make predictions using the trained model\n",
    "    crop_type = clf.predict(user_data)[0]\n",
    "\n",
    "    # Return the prediction as JSON\n",
    "    response = {\"predicted_crop_type\": crop_type}\n",
    "    return jsonify(response)\n",
    "\n",
    "if __name__ == '__main__':\n",
    "    app.run(host='0.0.0.0', port=5000)"
   ]
  },
  {
   "cell_type": "code",
   "execution_count": null,
   "metadata": {},
   "outputs": [],
   "source": []
  }
 ],
 "metadata": {
  "kernelspec": {
   "display_name": "Python 3",
   "language": "python",
   "name": "python3"
  },
  "language_info": {
   "codemirror_mode": {
    "name": "ipython",
    "version": 3
   },
   "file_extension": ".py",
   "mimetype": "text/x-python",
   "name": "python",
   "nbconvert_exporter": "python",
   "pygments_lexer": "ipython3",
   "version": "3.8.5"
  }
 },
 "nbformat": 4,
 "nbformat_minor": 4
}
